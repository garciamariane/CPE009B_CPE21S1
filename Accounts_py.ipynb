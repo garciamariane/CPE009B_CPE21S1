{
  "nbformat": 4,
  "nbformat_minor": 0,
  "metadata": {
    "colab": {
      "provenance": [],
      "authorship_tag": "ABX9TyM7ruoG367QXLuLcY86lgKK",
      "include_colab_link": true
    },
    "kernelspec": {
      "name": "python3",
      "display_name": "Python 3"
    },
    "language_info": {
      "name": "python"
    }
  },
  "cells": [
    {
      "cell_type": "markdown",
      "metadata": {
        "id": "view-in-github",
        "colab_type": "text"
      },
      "source": [
        "<a href=\"https://colab.research.google.com/github/garciamariane/CPE009B_CPE21S1/blob/main/Accounts_py.ipynb\" target=\"_parent\"><img src=\"https://colab.research.google.com/assets/colab-badge.svg\" alt=\"Open In Colab\"/></a>"
      ]
    },
    {
      "cell_type": "code",
      "execution_count": 1,
      "metadata": {
        "id": "9Z0tKfVCJ05L"
      },
      "outputs": [],
      "source": [
        "\n",
        "    Accounts.py\n",
        "\n",
        "\n",
        "class Accounts:\n",
        "    def __init__(self, account_number, account_firstname, account_lastname, current_balance, address, email):\n",
        "        self.account_number = account_number\n",
        "        self.account_firstname = account_firstname\n",
        "        self.account_lastname = account_lastname\n",
        "        self.current_balance = current_balance\n",
        "        self.address = address\n",
        "        self.email = email\n",
        "\n",
        "    def update_address(self, new_address):\n",
        "        self.address = new_address\n",
        "\n",
        "    def update_email(self, new_email):\n",
        "        self.email = new_email"
      ]
    }
  ]
}