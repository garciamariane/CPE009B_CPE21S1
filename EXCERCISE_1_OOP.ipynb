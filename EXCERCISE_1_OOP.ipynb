{
  "nbformat": 4,
  "nbformat_minor": 0,
  "metadata": {
    "colab": {
      "provenance": [],
      "authorship_tag": "ABX9TyPtWZFwqXkhCGDDqMi+GP3g",
      "include_colab_link": true
    },
    "kernelspec": {
      "name": "python3",
      "display_name": "Python 3"
    },
    "language_info": {
      "name": "python"
    }
  },
  "cells": [
    {
      "cell_type": "markdown",
      "metadata": {
        "id": "view-in-github",
        "colab_type": "text"
      },
      "source": [
        "<a href=\"https://colab.research.google.com/github/garciamariane/CPE009B_CPE21S1/blob/main/EXCERCISE_1_OOP.ipynb\" target=\"_parent\"><img src=\"https://colab.research.google.com/assets/colab-badge.svg\" alt=\"Open In Colab\"/></a>"
      ]
    },
    {
      "cell_type": "markdown",
      "source": [
        "NUMBERS"
      ],
      "metadata": {
        "id": "GOd48LfsSTXe"
      }
    },
    {
      "cell_type": "code",
      "execution_count": 2,
      "metadata": {
        "id": "UgECI-DmNtE2"
      },
      "outputs": [],
      "source": [
        "\n",
        "varNum = 123\n",
        "pi = 3.14159"
      ]
    },
    {
      "cell_type": "markdown",
      "source": [
        "STRINGS"
      ],
      "metadata": {
        "id": "A5-nWYUTSWed"
      }
    },
    {
      "cell_type": "code",
      "source": [
        "varStrings= \"Hello world!\"\n",
        "varText = 'This is a string'"
      ],
      "metadata": {
        "id": "YAS1pD9CRL-u"
      },
      "execution_count": 3,
      "outputs": []
    },
    {
      "cell_type": "markdown",
      "source": [
        "LIST"
      ],
      "metadata": {
        "id": "WMF60FhlSdYP"
      }
    },
    {
      "cell_type": "code",
      "source": [
        "varList = [\"abc\",123]"
      ],
      "metadata": {
        "id": "zcivpHvhRbRP"
      },
      "execution_count": 4,
      "outputs": []
    },
    {
      "cell_type": "markdown",
      "source": [
        "TUPLES"
      ],
      "metadata": {
        "id": "BoZA2MmfSej1"
      }
    },
    {
      "cell_type": "code",
      "source": [
        "varTuple= 'abc', 123, \"HELLO\"\n",
        "var"
      ],
      "metadata": {
        "colab": {
          "base_uri": "https://localhost:8080/"
        },
        "id": "3tfJS8uQRjhl",
        "outputId": "3359a3bd-9c3a-4c07-c3b5-e1687f5f94cf"
      },
      "execution_count": 37,
      "outputs": [
        {
          "output_type": "execute_result",
          "data": {
            "text/plain": [
              "3"
            ]
          },
          "metadata": {},
          "execution_count": 37
        }
      ]
    },
    {
      "cell_type": "markdown",
      "source": [
        "DICTIONARIES"
      ],
      "metadata": {
        "id": "Mi0QJza7Sfj1"
      }
    },
    {
      "cell_type": "code",
      "source": [
        "var = 3\n",
        "varDict = { 'first':1, '2':'2nd', 3: var}\n",
        "var"
      ],
      "metadata": {
        "colab": {
          "base_uri": "https://localhost:8080/"
        },
        "id": "C-IXhJN1Rrqu",
        "outputId": "75024eb4-981a-425f-c167-dd263298f963"
      },
      "execution_count": 36,
      "outputs": [
        {
          "output_type": "execute_result",
          "data": {
            "text/plain": [
              "3"
            ]
          },
          "metadata": {},
          "execution_count": 36
        }
      ]
    },
    {
      "cell_type": "code",
      "source": [
        "varDict ={}\n",
        "varDict['first']= 1\n",
        "varDict['2']= '2nd'\n",
        "varDict[3]= var\n",
        "var"
      ],
      "metadata": {
        "colab": {
          "base_uri": "https://localhost:8080/"
        },
        "id": "wZlixThMR8lN",
        "outputId": "c97fc1c8-cf9a-49ae-a37a-5399489fca88"
      },
      "execution_count": 35,
      "outputs": [
        {
          "output_type": "execute_result",
          "data": {
            "text/plain": [
              "3"
            ]
          },
          "metadata": {},
          "execution_count": 35
        }
      ]
    },
    {
      "cell_type": "markdown",
      "source": [
        "addition"
      ],
      "metadata": {
        "id": "2GgeAv8sTdZN"
      }
    },
    {
      "cell_type": "code",
      "source": [
        "a= 5+3\n",
        "a"
      ],
      "metadata": {
        "colab": {
          "base_uri": "https://localhost:8080/"
        },
        "id": "1F-U1M9LSzYO",
        "outputId": "a2fe5d99-b2c7-42e4-a311-4361511c54ac"
      },
      "execution_count": 24,
      "outputs": [
        {
          "output_type": "execute_result",
          "data": {
            "text/plain": [
              "8"
            ]
          },
          "metadata": {},
          "execution_count": 24
        }
      ]
    },
    {
      "cell_type": "markdown",
      "source": [
        "subtraction"
      ],
      "metadata": {
        "id": "X8DRbxSbTg38"
      }
    },
    {
      "cell_type": "code",
      "source": [
        "a= 5-2\n",
        "a"
      ],
      "metadata": {
        "colab": {
          "base_uri": "https://localhost:8080/"
        },
        "id": "Wit1yGO8TAAc",
        "outputId": "6e16a49b-916c-429f-c6a2-3a1309fbec32"
      },
      "execution_count": 25,
      "outputs": [
        {
          "output_type": "execute_result",
          "data": {
            "text/plain": [
              "3"
            ]
          },
          "metadata": {},
          "execution_count": 25
        }
      ]
    },
    {
      "cell_type": "markdown",
      "source": [
        "multiplication"
      ],
      "metadata": {
        "id": "A9ev2h8MTi2E"
      }
    },
    {
      "cell_type": "code",
      "source": [
        "a= 5*3\n",
        "a"
      ],
      "metadata": {
        "colab": {
          "base_uri": "https://localhost:8080/"
        },
        "id": "cTyDhfumTJAU",
        "outputId": "c3abd483-24ff-4855-f1b6-80f4d99d2fc0"
      },
      "execution_count": 26,
      "outputs": [
        {
          "output_type": "execute_result",
          "data": {
            "text/plain": [
              "15"
            ]
          },
          "metadata": {},
          "execution_count": 26
        }
      ]
    },
    {
      "cell_type": "markdown",
      "source": [
        "exponent"
      ],
      "metadata": {
        "id": "RlOClLoiTkoM"
      }
    },
    {
      "cell_type": "code",
      "source": [
        "a = 5**3\n",
        "a"
      ],
      "metadata": {
        "colab": {
          "base_uri": "https://localhost:8080/"
        },
        "id": "R5C6g4AYTOHM",
        "outputId": "d24e5cae-183d-40e9-9e53-b48990b0e2dc"
      },
      "execution_count": 27,
      "outputs": [
        {
          "output_type": "execute_result",
          "data": {
            "text/plain": [
              "125"
            ]
          },
          "metadata": {},
          "execution_count": 27
        }
      ]
    },
    {
      "cell_type": "markdown",
      "source": [
        "division"
      ],
      "metadata": {
        "id": "e0-HBwltTm3M"
      }
    },
    {
      "cell_type": "code",
      "source": [
        "a= 5/3\n",
        "a"
      ],
      "metadata": {
        "colab": {
          "base_uri": "https://localhost:8080/"
        },
        "id": "GcH0HCG1TQ8t",
        "outputId": "9afaa964-75cd-41bb-a118-320bb1368546"
      },
      "execution_count": 28,
      "outputs": [
        {
          "output_type": "execute_result",
          "data": {
            "text/plain": [
              "1.6666666666666667"
            ]
          },
          "metadata": {},
          "execution_count": 28
        }
      ]
    },
    {
      "cell_type": "code",
      "source": [
        "a= 5%3\n",
        "a"
      ],
      "metadata": {
        "colab": {
          "base_uri": "https://localhost:8080/"
        },
        "id": "k_Z-qdY9TTVE",
        "outputId": "58133ad6-86a6-439d-d251-3ca9b84a3e84"
      },
      "execution_count": 29,
      "outputs": [
        {
          "output_type": "execute_result",
          "data": {
            "text/plain": [
              "2"
            ]
          },
          "metadata": {},
          "execution_count": 29
        }
      ]
    },
    {
      "cell_type": "code",
      "source": [
        "a= 5//3\n",
        "a"
      ],
      "metadata": {
        "colab": {
          "base_uri": "https://localhost:8080/"
        },
        "id": "1FYOhzEETXd8",
        "outputId": "34b4bcd8-5de1-437c-fe40-15df408f961a"
      },
      "execution_count": 30,
      "outputs": [
        {
          "output_type": "execute_result",
          "data": {
            "text/plain": [
              "1"
            ]
          },
          "metadata": {},
          "execution_count": 30
        }
      ]
    },
    {
      "cell_type": "markdown",
      "source": [
        "INCREMENT"
      ],
      "metadata": {
        "id": "C89_7p6JUaBc"
      }
    },
    {
      "cell_type": "code",
      "source": [
        "a= 5\n",
        "a+=1\n",
        "a"
      ],
      "metadata": {
        "colab": {
          "base_uri": "https://localhost:8080/"
        },
        "id": "jqEEuOOjUD7M",
        "outputId": "17342229-09c5-4622-a24d-c521282516f1"
      },
      "execution_count": 31,
      "outputs": [
        {
          "output_type": "execute_result",
          "data": {
            "text/plain": [
              "6"
            ]
          },
          "metadata": {},
          "execution_count": 31
        }
      ]
    },
    {
      "cell_type": "markdown",
      "source": [
        "DECREMENT"
      ],
      "metadata": {
        "id": "97XKpOVWUcE0"
      }
    },
    {
      "cell_type": "code",
      "source": [
        "a= 5\n",
        "a-=1\n",
        "a"
      ],
      "metadata": {
        "colab": {
          "base_uri": "https://localhost:8080/"
        },
        "id": "PL4CyWGZUJPk",
        "outputId": "9ab1beee-9828-4af3-9cbd-c616b5874591"
      },
      "execution_count": 32,
      "outputs": [
        {
          "output_type": "execute_result",
          "data": {
            "text/plain": [
              "4"
            ]
          },
          "metadata": {},
          "execution_count": 32
        }
      ]
    },
    {
      "cell_type": "markdown",
      "source": [
        "STRING CONCATENATION"
      ],
      "metadata": {
        "id": "4U3C9P26Ud88"
      }
    },
    {
      "cell_type": "code",
      "source": [
        "a= 'hello'+'world'\n",
        "a"
      ],
      "metadata": {
        "colab": {
          "base_uri": "https://localhost:8080/",
          "height": 35
        },
        "id": "DsbohhJBUNUE",
        "outputId": "c454a1f2-2b91-4789-99f5-ec5fd40e72c5"
      },
      "execution_count": 33,
      "outputs": [
        {
          "output_type": "execute_result",
          "data": {
            "text/plain": [
              "'helloworld'"
            ],
            "application/vnd.google.colaboratory.intrinsic+json": {
              "type": "string"
            }
          },
          "metadata": {},
          "execution_count": 33
        }
      ]
    },
    {
      "cell_type": "markdown",
      "source": [
        "COMPLEX EXPRESSION"
      ],
      "metadata": {
        "id": "7YUKMkdjUjtE"
      }
    },
    {
      "cell_type": "code",
      "source": [
        "a= 3+5-6* 2/4\n",
        "a"
      ],
      "metadata": {
        "colab": {
          "base_uri": "https://localhost:8080/"
        },
        "id": "scU0VCJIUTkk",
        "outputId": "254248fd-ed7a-495f-a875-c831dce5bb36"
      },
      "execution_count": 34,
      "outputs": [
        {
          "output_type": "execute_result",
          "data": {
            "text/plain": [
              "5.0"
            ]
          },
          "metadata": {},
          "execution_count": 34
        }
      ]
    },
    {
      "cell_type": "markdown",
      "source": [
        "boolean conditions"
      ],
      "metadata": {
        "id": "RcOkNXIVWqk7"
      }
    },
    {
      "cell_type": "code",
      "source": [
        "x= True\n",
        "if x:\n",
        "    print(\"var x is True\")\n",
        "else:\n",
        "    print(\"var is false\")\n",
        "\n",
        "x\n"
      ],
      "metadata": {
        "colab": {
          "base_uri": "https://localhost:8080/"
        },
        "id": "lrvFDHsbU3uH",
        "outputId": "2d0424a4-8e72-429a-f4ff-6a688541d7ce"
      },
      "execution_count": 39,
      "outputs": [
        {
          "output_type": "stream",
          "name": "stdout",
          "text": [
            "var x is True\n"
          ]
        },
        {
          "output_type": "execute_result",
          "data": {
            "text/plain": [
              "True"
            ]
          },
          "metadata": {},
          "execution_count": 39
        }
      ]
    },
    {
      "cell_type": "markdown",
      "source": [
        "string conditions"
      ],
      "metadata": {
        "id": "3Blw17c-WtKM"
      }
    },
    {
      "cell_type": "code",
      "source": [
        "x= \"hello world!\"\n",
        "\n",
        "if x =='hello world!':\n",
        "    print(\"var xis hello world!\")\n",
        "else :\n",
        "    print (\"var is not Hello world\")\n",
        "\n",
        "x"
      ],
      "metadata": {
        "colab": {
          "base_uri": "https://localhost:8080/",
          "height": 53
        },
        "id": "iGEjm2MNVaQz",
        "outputId": "eb3f1cc8-3b86-4e19-a425-1cc610054191"
      },
      "execution_count": 44,
      "outputs": [
        {
          "output_type": "stream",
          "name": "stdout",
          "text": [
            "var xis hello world!\n"
          ]
        },
        {
          "output_type": "execute_result",
          "data": {
            "text/plain": [
              "'hello world!'"
            ],
            "application/vnd.google.colaboratory.intrinsic+json": {
              "type": "string"
            }
          },
          "metadata": {},
          "execution_count": 44
        }
      ]
    },
    {
      "cell_type": "markdown",
      "source": [
        "numerical conditions"
      ],
      "metadata": {
        "id": "TJjWyXK0WvQb"
      }
    },
    {
      "cell_type": "code",
      "source": [
        "x= 10\n",
        "if x == '10':\n",
        "  print (\"var x is a string\")\n",
        "elif x==10:\n",
        "  print(\"var x is an integer\")\n",
        "else:\n",
        "  print(\"var x is none of the above\")\n",
        "  x"
      ],
      "metadata": {
        "colab": {
          "base_uri": "https://localhost:8080/"
        },
        "id": "E_ccFlD_WA6E",
        "outputId": "53733079-6c05-460c-cfea-5026b1c832a1"
      },
      "execution_count": 47,
      "outputs": [
        {
          "output_type": "stream",
          "name": "stdout",
          "text": [
            "var x is an integer\n"
          ]
        }
      ]
    },
    {
      "cell_type": "markdown",
      "source": [
        "for loops"
      ],
      "metadata": {
        "id": "yBN-UUIcXsP6"
      }
    },
    {
      "cell_type": "code",
      "source": [
        "for var in range (0,5,2):\n",
        "  print (var)\n",
        ""
      ],
      "metadata": {
        "colab": {
          "base_uri": "https://localhost:8080/"
        },
        "id": "2ygDioW2W6Ss",
        "outputId": "c4cc0758-bb5c-45ae-90ee-7b83ba1f21f1"
      },
      "execution_count": 48,
      "outputs": [
        {
          "output_type": "stream",
          "name": "stdout",
          "text": [
            "0\n",
            "2\n",
            "4\n"
          ]
        }
      ]
    },
    {
      "cell_type": "markdown",
      "source": [
        "while loops"
      ],
      "metadata": {
        "id": "In8eYKdkXtlJ"
      }
    },
    {
      "cell_type": "code",
      "source": [
        "var = 0\n",
        "while var <5:\n",
        "  print(var)\n",
        "  var+=2"
      ],
      "metadata": {
        "colab": {
          "base_uri": "https://localhost:8080/"
        },
        "id": "IJZN1zEOXGJ6",
        "outputId": "1bdc6424-3304-4586-ce4f-76a4e82434b8"
      },
      "execution_count": 50,
      "outputs": [
        {
          "output_type": "stream",
          "name": "stdout",
          "text": [
            "0\n",
            "2\n",
            "4\n"
          ]
        }
      ]
    },
    {
      "cell_type": "markdown",
      "source": [
        "nested loops"
      ],
      "metadata": {
        "id": "rNZfCOf7XvOi"
      }
    },
    {
      "cell_type": "code",
      "source": [
        "x = 0\n",
        "while x < 5:\n",
        "  for y in range (0,x):\n",
        "    print (y,end='')\n",
        "    x+=1\n",
        "    print()\n",
        ""
      ],
      "metadata": {
        "id": "j92Gu-OhXPWN"
      },
      "execution_count": null,
      "outputs": []
    },
    {
      "cell_type": "markdown",
      "source": [
        "CAN CONTAIN A NUMBER OF VALUS COMPRISED OF DIFFERENT DATA TYPES"
      ],
      "metadata": {
        "id": "f_Jcik8kZSbZ"
      }
    },
    {
      "cell_type": "code",
      "source": [
        "pi = 3.14159\n",
        "varlis = [1,2,'A','B','hello!',pi]\n",
        "print (varList[0])"
      ],
      "metadata": {
        "id": "ePNCyYa0Xfac"
      },
      "execution_count": null,
      "outputs": []
    },
    {
      "cell_type": "code",
      "source": [
        "print(varList[4])"
      ],
      "metadata": {
        "id": "hur-QavoYm0B"
      },
      "execution_count": null,
      "outputs": []
    },
    {
      "cell_type": "code",
      "source": [
        "varList.append('World!')\n",
        "print(varList[6])"
      ],
      "metadata": {
        "id": "-JwoGUSyYyxi"
      },
      "execution_count": null,
      "outputs": []
    },
    {
      "cell_type": "code",
      "source": [
        "len(varList)"
      ],
      "metadata": {
        "id": "iJfzxHu_Y-1D"
      },
      "execution_count": null,
      "outputs": []
    },
    {
      "cell_type": "code",
      "source": [
        "print(varList[5])\n"
      ],
      "metadata": {
        "id": "4l_BjIruZCjh"
      },
      "execution_count": null,
      "outputs": []
    },
    {
      "cell_type": "code",
      "source": [
        "varList.remove(pi)\n",
        "print(varList[5])"
      ],
      "metadata": {
        "id": "jsZrhC1aZIEp"
      },
      "execution_count": null,
      "outputs": []
    },
    {
      "cell_type": "markdown",
      "source": [
        "DICTIONARIES"
      ],
      "metadata": {
        "id": "3VnpYYoBaPGd"
      }
    },
    {
      "cell_type": "code",
      "source": [
        "var= \"Hello world!\"\n",
        "varDict = {'first ': 123, 2: 'abc'\n",
        "'3' : var, 4: ['lista', 'listb.']}\n",
        "print (varDict['first'])\n"
      ],
      "metadata": {
        "id": "J-MBG5JTaRiD"
      },
      "execution_count": null,
      "outputs": []
    },
    {
      "cell_type": "code",
      "source": [
        "print(varDict[2])"
      ],
      "metadata": {
        "id": "A9NojzrpapKu"
      },
      "execution_count": null,
      "outputs": []
    },
    {
      "cell_type": "code",
      "source": [
        "print(varDict['3'])"
      ],
      "metadata": {
        "id": "Aq-cHo4RauAg"
      },
      "execution_count": null,
      "outputs": []
    },
    {
      "cell_type": "code",
      "source": [
        "print(varDict[4])"
      ],
      "metadata": {
        "id": "MAA79FXaa0o4"
      },
      "execution_count": null,
      "outputs": []
    },
    {
      "cell_type": "code",
      "source": [
        "print (varDict[4][1])"
      ],
      "metadata": {
        "id": "2AfUetzva7Dv"
      },
      "execution_count": null,
      "outputs": []
    },
    {
      "cell_type": "code",
      "source": [
        "len(varDict)"
      ],
      "metadata": {
        "id": "sZUurToSbC6n"
      },
      "execution_count": null,
      "outputs": []
    },
    {
      "cell_type": "markdown",
      "source": [
        "LIST GENERATORS AND COMPREHENSION"
      ],
      "metadata": {
        "id": "XQkoZqn_bZCI"
      }
    },
    {
      "cell_type": "code",
      "source": [
        "def gen_num_up_to(n):\n",
        "  num= 0\n",
        "  while num < n:\n",
        "    yield numnum +=1\n"
      ],
      "metadata": {
        "id": "kbyrLgmcbd0S"
      },
      "execution_count": null,
      "outputs": []
    },
    {
      "cell_type": "code",
      "source": [
        "gen_num_up_to(5)"
      ],
      "metadata": {
        "id": "xrei2rBBbxSV"
      },
      "execution_count": null,
      "outputs": []
    },
    {
      "cell_type": "code",
      "source": [
        "varlist=gen_num_up_to(5)\n",
        "print ([var for var invarList])"
      ],
      "metadata": {
        "id": "RCdt91_icBXX"
      },
      "execution_count": null,
      "outputs": []
    },
    {
      "cell_type": "code",
      "source": [
        "def gen_num_up_to(n):\n",
        "  num=0\n",
        "  while num < n:\n",
        "    yield num\n",
        "    num+=2\n",
        "varList= gen_num_up_to(5)\n",
        "print([var for var in varlist])"
      ],
      "metadata": {
        "id": "bu109lWNcKz_"
      },
      "execution_count": null,
      "outputs": []
    },
    {
      "cell_type": "code",
      "source": [
        "varList= range(0,5,2)\n",
        "print([var for var in varList])"
      ],
      "metadata": {
        "id": "dFmLr9uVcYDC"
      },
      "execution_count": null,
      "outputs": []
    },
    {
      "cell_type": "markdown",
      "source": [
        "SLICING"
      ],
      "metadata": {
        "id": "VeWtBzRQdKHA"
      }
    },
    {
      "cell_type": "code",
      "source": [
        "varList = [1,2,3,4,5,6,7,8,9,10]\n",
        "print(varList[:5])"
      ],
      "metadata": {
        "id": "w62GPw3udJSc"
      },
      "execution_count": null,
      "outputs": []
    },
    {
      "cell_type": "code",
      "source": [
        "print (varList{5:})"
      ],
      "metadata": {
        "id": "26bUHziNdVn3"
      },
      "execution_count": null,
      "outputs": []
    },
    {
      "cell_type": "code",
      "source": [
        "print(varList[:-2])"
      ],
      "metadata": {
        "id": "dBbYK5HwdaPY"
      },
      "execution_count": null,
      "outputs": []
    },
    {
      "cell_type": "code",
      "source": [
        "print (varlist[:-2])"
      ],
      "metadata": {
        "id": "ZoruOerMdgIm"
      },
      "execution_count": null,
      "outputs": []
    },
    {
      "cell_type": "code",
      "source": [
        "print(varList[-2:])"
      ],
      "metadata": {
        "id": "6KMDgbxndoyG"
      },
      "execution_count": null,
      "outputs": []
    },
    {
      "cell_type": "code",
      "source": [
        "print (varList[2:-2])"
      ],
      "metadata": {
        "id": "JKLA-wFEdueW"
      },
      "execution_count": null,
      "outputs": []
    },
    {
      "cell_type": "code",
      "source": [
        "print(varList[2:8:2])"
      ],
      "metadata": {
        "id": "Rr4P0gypd0W8"
      },
      "execution_count": null,
      "outputs": []
    },
    {
      "cell_type": "markdown",
      "source": [
        "FUNCTIONS"
      ],
      "metadata": {
        "id": "if6xtGQLeW4m"
      }
    },
    {
      "cell_type": "code",
      "source": [
        "def remainder(n,m):\n",
        "  while True:\n",
        "    if b- m <0\n",
        "    else:\n",
        "      n=n-m\n",
        "\n",
        "remainder(10,4)"
      ],
      "metadata": {
        "id": "2OBBugqseZNm"
      },
      "execution_count": null,
      "outputs": []
    }
  ]
}