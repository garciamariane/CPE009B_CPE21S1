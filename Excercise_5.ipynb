{
  "nbformat": 4,
  "nbformat_minor": 0,
  "metadata": {
    "colab": {
      "provenance": [],
      "authorship_tag": "ABX9TyPGFqU7fdFWxt1TJw8aupkN",
      "include_colab_link": true
    },
    "kernelspec": {
      "name": "python3",
      "display_name": "Python 3"
    },
    "language_info": {
      "name": "python"
    }
  },
  "cells": [
    {
      "cell_type": "markdown",
      "metadata": {
        "id": "view-in-github",
        "colab_type": "text"
      },
      "source": [
        "<a href=\"https://colab.research.google.com/github/garciamariane/CPE009B_CPE21S1/blob/main/Excercise_5.ipynb\" target=\"_parent\"><img src=\"https://colab.research.google.com/assets/colab-badge.svg\" alt=\"Open In Colab\"/></a>"
      ]
    },
    {
      "cell_type": "code",
      "source": [
        "class Person:\n",
        "    def __init__(self, name, age):  # Added space after def\n",
        "        self.name = name\n",
        "        self.age = age\n",
        "\n",
        "class Student(Person):\n",
        "    def traits(self):\n",
        "        return \"Studying, playing, writing, dancing\"  # Fixed the formatting\n",
        "\n",
        "class Teacher(Person):  # Added colon\n",
        "    def traits(self):\n",
        "        return \"Teaching, socializing, dancing, singing\"  # Fixed the formatting\n",
        "\n",
        "student = Student(\"Ana\", 20)\n",
        "teacher = Teacher(\"Ma'am Sayo\", 41)\n",
        "\n",
        "print(\"As a student, I do:\", student.traits())\n",
        "print(\"As a teacher, I do:\", teacher.traits())\n"
      ],
      "metadata": {
        "colab": {
          "base_uri": "https://localhost:8080/"
        },
        "id": "rYNpM8-xVRxT",
        "outputId": "9169f7a1-1b71-4787-f9aa-f00eadb62e14"
      },
      "execution_count": 8,
      "outputs": [
        {
          "output_type": "stream",
          "name": "stdout",
          "text": [
            "As a student, I do: Studying, playing, writing, dancing\n",
            "As a teacher, I do: Teaching, socializing, dancing, singing\n"
          ]
        }
      ]
    },
    {
      "cell_type": "code",
      "source": [
        "class Dog:\n",
        "    def __init__(self, name, dog_breed, dog_condition):\n",
        "        self.name = name\n",
        "        self.dog_breed = dog_breed\n",
        "        self.dog_condition = dog_condition\n",
        "\n",
        "class DogName(Dog):\n",
        "    def display_info(self):\n",
        "        print(f\"Dogs info: {self.name} a cute and {self.dog_condition}                                                                                                                                                                                                                                                                                           {self.dog_breed} :> \")\n",
        "\n",
        "name = input(\"Enter the name of your dog: \")\n",
        "breed = input(\"Enter the breed of your dog: \")\n",
        "condition = input (\"enter the condition of your dog: \")\n",
        "\n",
        "dog = DogName(name, breed, condition)\n",
        "\n",
        "dog.display_info()"
      ],
      "metadata": {
        "colab": {
          "base_uri": "https://localhost:8080/"
        },
        "id": "WdaJd5avVi7J",
        "outputId": "9d8b4dcc-e32e-48b3-85a4-3e00a269bdcf"
      },
      "execution_count": 22,
      "outputs": [
        {
          "output_type": "stream",
          "name": "stdout",
          "text": [
            "Enter the name of your dog: caca\n",
            "Enter the breed of your dog: japanese spitz\n",
            "enter the condition of your dog: healthy\n",
            "Dogs info: caca a cute and healthy japanese spitz :> \n"
          ]
        }
      ]
    }
  ]
}