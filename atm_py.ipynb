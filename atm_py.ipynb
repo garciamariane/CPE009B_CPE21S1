{
  "nbformat": 4,
  "nbformat_minor": 0,
  "metadata": {
    "colab": {
      "provenance": [],
      "authorship_tag": "ABX9TyMvtOHL1pRvyzJXxLP9gIyH",
      "include_colab_link": true
    },
    "kernelspec": {
      "name": "python3",
      "display_name": "Python 3"
    },
    "language_info": {
      "name": "python"
    }
  },
  "cells": [
    {
      "cell_type": "markdown",
      "metadata": {
        "id": "view-in-github",
        "colab_type": "text"
      },
      "source": [
        "<a href=\"https://colab.research.google.com/github/garciamariane/CPE009B_CPE21S1/blob/main/atm_py.ipynb\" target=\"_parent\"><img src=\"https://colab.research.google.com/assets/colab-badge.svg\" alt=\"Open In Colab\"/></a>"
      ]
    },
    {
      "cell_type": "code",
      "execution_count": null,
      "metadata": {
        "id": "2roOoT7TKT6A"
      },
      "outputs": [],
      "source": [
        "\n",
        "\n",
        "class ATM():\n",
        "    serial_number = 0\n",
        "\n",
        "    def deposit (self , account, amount):\n",
        "        account. current_balance = account.current_balance + amount\n",
        "        print(\"Deposit Complete\")\n",
        "    def widthdraw(self, account, amount):\n",
        "        account. current_balance = account.current_balance - amount\n",
        "        print(\"Widthdraw Complete\")\n",
        "    def check_currentbalance(self, account):\n",
        "        print(account.current_balance)\n"
      ]
    }
  ]
}