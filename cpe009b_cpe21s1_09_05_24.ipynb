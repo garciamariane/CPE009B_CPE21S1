{
  "nbformat": 4,
  "nbformat_minor": 0,
  "metadata": {
    "colab": {
      "provenance": [],
      "toc_visible": true,
      "authorship_tag": "ABX9TyOMcsA8IHwbbitPrshy5Dbs",
      "include_colab_link": true
    },
    "kernelspec": {
      "name": "python3",
      "display_name": "Python 3"
    },
    "language_info": {
      "name": "python"
    }
  },
  "cells": [
    {
      "cell_type": "markdown",
      "metadata": {
        "id": "view-in-github",
        "colab_type": "text"
      },
      "source": [
        "<a href=\"https://colab.research.google.com/github/garciamariane/CPE009B_CPE21S1/blob/main/cpe009b_cpe21s1_09_05_24.ipynb\" target=\"_parent\"><img src=\"https://colab.research.google.com/assets/colab-badge.svg\" alt=\"Open In Colab\"/></a>"
      ]
    },
    {
      "cell_type": "markdown",
      "source": [
        "excercise 1 & 2"
      ],
      "metadata": {
        "id": "gODtqL1ib2VL"
      }
    },
    {
      "cell_type": "code",
      "source": [
        "class Car:\n",
        "    car_type = \"sedan\"\n",
        "\n",
        "    def __init__(self, name, color):\n",
        "        self.name = name\n",
        "        self.color = color\n",
        "\n",
        "    def description(self):\n",
        "        return f\"the {self.name} car is {self.color}\"\n",
        "\n",
        "class BMW(Car):  # Inherit from Car\n",
        "    def __init__(self, color):\n",
        "        super().__init__(\"BMW\", color)  # Call the superclass constructor with \"BMW\" as name\n",
        "\n",
        "class AUDI(Car):  # Inherit from Car\n",
        "    def __init__(self, color):\n",
        "        super().__init__(\"AUDI\", color)  # Call the superclass constructor with \"AUDI\" as name\n",
        "\n",
        "    def audi_description(self):\n",
        "        return \"The description of this car is AUDI\"  # Method name corrected and updated description\n",
        "\n",
        "# Create instances of BMW and AUDI\n",
        "bmw = BMW(\"red\")\n",
        "print(bmw.description())\n",
        "\n",
        "audi = AUDI(\"blue\")\n",
        "print(audi.description())\n",
        "print(audi.audi_description())\n"
      ],
      "metadata": {
        "colab": {
          "base_uri": "https://localhost:8080/"
        },
        "id": "fMukco-vS88v",
        "outputId": "b204823c-125c-4f29-8cd3-5a27559b5a8b"
      },
      "execution_count": null,
      "outputs": [
        {
          "output_type": "stream",
          "name": "stdout",
          "text": [
            "the BMW car is red\n",
            "the AUDI car is blue\n",
            "The description of this car is AUDI\n"
          ]
        }
      ]
    },
    {
      "cell_type": "markdown",
      "source": [
        "Excercise 3"
      ],
      "metadata": {
        "id": "90WzUYCucBl7"
      }
    },
    {
      "cell_type": "code",
      "source": [
        "#Write a Python program that has\n",
        "#1. class Rectangle\n",
        "#2. attributes length and width\n",
        "#3. Perimeter () method to compute for the perimeter; and\n",
        "#4. Area() method to compute for the area\n",
        "\n",
        "\n",
        "class Rectangle:\n",
        "    def __init__(self, length, width):\n",
        "        self.length = length\n",
        "        self.width = width\n",
        "\n",
        "    def perimeter(self):\n",
        "        \"\"\"Calculate the perimeter of the rectangle.\"\"\"\n",
        "        return 2 * (self.length + self.width)\n",
        "\n",
        "    def area(self):\n",
        "        \"\"\"Calculate the area of the rectangle.\"\"\"\n",
        "        return self.length * self.width\n",
        "\n",
        "if __name__ == \"__main__\":\n",
        "    rect = Rectangle(20, 10)\n",
        "\n",
        "    print(f\"Perimeter of the rectangle: {rect.perimeter()}\")\n",
        "    print(f\"Area of the rectangle: {rect.area()}\")\n"
      ],
      "metadata": {
        "colab": {
          "base_uri": "https://localhost:8080/"
        },
        "id": "hAwU7tLXcBZG",
        "outputId": "6831e9bc-bd12-49c1-fba4-760345f7be58"
      },
      "execution_count": null,
      "outputs": [
        {
          "output_type": "stream",
          "name": "stdout",
          "text": [
            "Perimeter of the rectangle: 60\n",
            "Area of the rectangle: 200\n"
          ]
        }
      ]
    }
  ]
}