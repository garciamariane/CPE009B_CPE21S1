{
  "nbformat": 4,
  "nbformat_minor": 0,
  "metadata": {
    "colab": {
      "provenance": [],
      "authorship_tag": "ABX9TyP3XZdEeXHRdj8X3FNlVHfm",
      "include_colab_link": true
    },
    "kernelspec": {
      "name": "python3",
      "display_name": "Python 3"
    },
    "language_info": {
      "name": "python"
    }
  },
  "cells": [
    {
      "cell_type": "markdown",
      "metadata": {
        "id": "view-in-github",
        "colab_type": "text"
      },
      "source": [
        "<a href=\"https://colab.research.google.com/github/garciamariane/CPE009B_CPE21S1/blob/main/exercise_4.ipynb\" target=\"_parent\"><img src=\"https://colab.research.google.com/assets/colab-badge.svg\" alt=\"Open In Colab\"/></a>"
      ]
    },
    {
      "cell_type": "code",
      "execution_count": 3,
      "metadata": {
        "colab": {
          "base_uri": "https://localhost:8080/"
        },
        "id": "iuGwVQWeMFZS",
        "outputId": "4b837b90-9ec3-4b73-8436-6f68b1e838f9"
      },
      "outputs": [
        {
          "output_type": "execute_result",
          "data": {
            "text/plain": [
              "7"
            ]
          },
          "metadata": {},
          "execution_count": 3
        }
      ],
      "source": [
        "class foo:\n",
        "  def __init__(self, a, b):\n",
        "   self._a = a\n",
        "   self._b = b\n",
        "  def add(self):\n",
        "    return self._a + self._b\n",
        "foo_object = foo(3,4)\n",
        "foo_object.add()"
      ]
    },
    {
      "cell_type": "code",
      "source": [
        "class Person:\n",
        "    def __init__(self, name, age):\n",
        "        self.name = name\n",
        "        self.age = age\n",
        "\n",
        "    def display(self):\n",
        "        return f\"My name is {self.name} and my age is {self.age}\"\n",
        "\n",
        "p1 = Person(\"Ana\", 15)\n",
        "print(p1.display())\n"
      ],
      "metadata": {
        "colab": {
          "base_uri": "https://localhost:8080/"
        },
        "id": "xCEwBc0aNK4-",
        "outputId": "659e8f6d-1d16-4d89-f838-882252904759"
      },
      "execution_count": 19,
      "outputs": [
        {
          "output_type": "stream",
          "name": "stdout",
          "text": [
            "My name is Ana and my age is 15\n"
          ]
        }
      ]
    },
    {
      "cell_type": "code",
      "source": [
        "class Counter:\n",
        "    def __init__(self):\n",
        "        self.current = 0\n",
        "\n",
        "    def value(self):\n",
        "        return self.current\n",
        "\n",
        "    def reset(self):\n",
        "        self.current = 0\n",
        "\n",
        "    def increment(self):\n",
        "        self.current += 1\n",
        "\n",
        "\n",
        "counter = Counter()\n",
        "\n",
        "\n",
        "counter.increment()\n",
        "counter.increment()\n",
        "counter.increment()\n",
        "\n",
        "\n",
        "print(counter.value())\n"
      ],
      "metadata": {
        "colab": {
          "base_uri": "https://localhost:8080/"
        },
        "id": "4hjlRaDQPGXV",
        "outputId": "186f9faf-2639-417a-fa3a-96a4cb692a81"
      },
      "execution_count": 23,
      "outputs": [
        {
          "output_type": "stream",
          "name": "stdout",
          "text": [
            "3\n"
          ]
        }
      ]
    },
    {
      "cell_type": "code",
      "source": [
        "class RegularPolygon:\n",
        "    def __init__(self, side):\n",
        "        self.side = side\n",
        "\n",
        "class Square(RegularPolygon):\n",
        "    def area(self):\n",
        "        return self.side * self.side\n",
        "\n",
        "class EquilateralTriangle(RegularPolygon):\n",
        "    def area(self):\n",
        "        return (self.side ** 2) * 0.433\n",
        "\n",
        "\n",
        "square = Square(5)\n",
        "\n",
        "\n",
        "triangle = EquilateralTriangle(5)\n",
        "\n",
        "print(\"Area of Square:\", square.area())\n",
        "print(\"Area of Equilateral Triangle:\", triangle.area())\n"
      ],
      "metadata": {
        "colab": {
          "base_uri": "https://localhost:8080/"
        },
        "id": "eKXP8t4jRDW0",
        "outputId": "2fc462aa-1998-411d-edd7-5a542c5fe0d3"
      },
      "execution_count": 26,
      "outputs": [
        {
          "output_type": "stream",
          "name": "stdout",
          "text": [
            "Area of Square: 25\n",
            "Area of Equilateral Triangle: 10.825\n"
          ]
        }
      ]
    },
    {
      "cell_type": "code",
      "source": [
        "class Student:\n",
        "    def __init__(self, name, prelim_grades, midterm_grades, final_grades):\n",
        "        self.name = name\n",
        "        self.prelim_grades = prelim_grades\n",
        "        self.midterm_grades = midterm_grades\n",
        "        self.final_grades = final_grades\n",
        "\n",
        "    def __compute_average(self, grades):\n",
        "        return sum(grades) / len(grades) if grades else 0\n",
        "\n",
        "    def get_av(self):\n",
        "        av_prelim = self.__compute_average(self.prelim_grades)\n",
        "        av_midterm = self.__compute_average(self.midterm_grades)\n",
        "        av_final = self.__compute_average(self.final_grades)\n",
        "        return av_prelim, av_midterm, av_final\n",
        "\n",
        "    def Grade(self):\n",
        "        return (self.__compute_average(self.prelim_grades) +\n",
        "                self.__compute_average(self.midterm_grades) +\n",
        "                self.__compute_average(self.final_grades)) / 3\n",
        "\n",
        "class Person:\n",
        "    def __init__(self, student1, student2, student3):\n",
        "        self.student1 = student1\n",
        "        self.student2 = student2\n",
        "        self.student3 = student3\n",
        "\n",
        "    def display_grades(self):\n",
        "        av_std1 = self.student1.get_av()\n",
        "        av_std2 = self.student2.get_av()\n",
        "        av_std3 = self.student3.get_av()\n",
        "\n",
        "        return (f\"STUDENT 1 ({self.student1.name}): Prelim = {av_std1[0]:.2f}, Midterm = {av_std1[1]:.2f}, Final = {av_std1[2]:.2f}, Average = {self.student1.Grade():.2f}\\n\"\n",
        "                f\"STUDENT 2 ({self.student2.name}): Prelim = {av_std2[0]:.2f}, Midterm = {av_std2[1]:.2f}, Final = {av_std2[2]:.2f}, Average = {self.student2.Grade():.2f}\\n\"\n",
        "                f\"STUDENT 3 ({self.student3.name}): Prelim = {av_std3[0]:.2f}, Midterm = {av_std3[1]:.2f}, Final = {av_std3[2]:.2f}, Average = {self.student3.Grade():.2f}\\n\")\n",
        "\n",
        "# Instantiate Student objects\n",
        "student1 = Student(\"Garcia, Mariane\", [95, 95, 97], [98, 90, 90], [90, 90, 95])\n",
        "student2 = Student(\"Batumbakal, Altheah Jr.\", [100, 99, 99], [98, 98, 100], [90, 90, 88])\n",
        "student3 = Student(\"Jung, Haein Jr.\", [99, 99, 90], [89, 90, 88], [88, 75, 78])\n",
        "\n",
        "# Instantiate Person object with the Student objects\n",
        "person = Person(student1, student2, student3)\n",
        "\n",
        "# Print the grades\n",
        "print(person.display_grades())\n"
      ],
      "metadata": {
        "colab": {
          "base_uri": "https://localhost:8080/"
        },
        "id": "XUeK0ePPgTLx",
        "outputId": "30817b75-f4c4-4d61-b683-0114ebeaf578"
      },
      "execution_count": 36,
      "outputs": [
        {
          "output_type": "stream",
          "name": "stdout",
          "text": [
            "STUDENT 1 (Garcia, Mariane): Prelim = 95.67, Midterm = 92.67, Final = 91.67, Average = 93.33\n",
            "STUDENT 2 (Batumbakal, Altheah Jr.): Prelim = 99.33, Midterm = 98.67, Final = 89.33, Average = 95.78\n",
            "STUDENT 3 (Jung, Haein Jr.): Prelim = 96.00, Midterm = 89.00, Final = 80.33, Average = 88.44\n",
            "\n"
          ]
        }
      ]
    }
  ]
}