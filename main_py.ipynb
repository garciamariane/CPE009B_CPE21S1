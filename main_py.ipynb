{
  "nbformat": 4,
  "nbformat_minor": 0,
  "metadata": {
    "colab": {
      "provenance": [],
      "authorship_tag": "ABX9TyNQ6BoSqxhTfLUE6o3VdyBR",
      "include_colab_link": true
    },
    "kernelspec": {
      "name": "python3",
      "display_name": "Python 3"
    },
    "language_info": {
      "name": "python"
    }
  },
  "cells": [
    {
      "cell_type": "markdown",
      "metadata": {
        "id": "view-in-github",
        "colab_type": "text"
      },
      "source": [
        "<a href=\"https://colab.research.google.com/github/garciamariane/CPE009B_CPE21S1/blob/main/main_py.ipynb\" target=\"_parent\"><img src=\"https://colab.research.google.com/assets/colab-badge.svg\" alt=\"Open In Colab\"/></a>"
      ]
    },
    {
      "cell_type": "code",
      "execution_count": 3,
      "metadata": {
        "id": "2roOoT7TKT6A"
      },
      "outputs": [],
      "source": [
        "# Accounts.py\n",
        "class Accounts:\n",
        "    def __init__(self, account_number, account_firstname, account_lastname, current_balance, address, email):\n",
        "        self.account_number = account_number\n",
        "        self.account_firstname = account_firstname\n",
        "        self.account_lastname = account_lastname\n",
        "        self.current_balance = current_balance\n",
        "        self.address = address\n",
        "        self.email = email\n",
        "\n",
        "    def display_account_info(self):\n",
        "        print(f\"Account Number: {self.account_number}\")\n",
        "        print(f\"First Name: {self.account_firstname}\")\n",
        "        print(f\"Last Name: {self.account_lastname}\")\n",
        "        print(f\"Current Balance: ${self.current_balance:.2f}\")\n",
        "        print(f\"Address: {self.address}\")\n",
        "        print(f\"Email: {self.email}\")\n",
        "        print()\n",
        "\n",
        "# ATM.py (assuming this file has some functionality for ATM-related operations)\n"
      ]
    },
    {
      "cell_type": "code",
      "source": [
        "# main.py\n",
        "import Accounts\n",
        "\n",
        "# Create account instances\n",
        "Account1 = Accounts.Accounts(account_number=123456, account_firstname=\"Royce\", account_lastname=\"Chua\",\n",
        "                             current_balance=1000, address=\"Silver Street, Quezon City\",\n",
        "                             email=\"roycechua123@gmail.com\")\n",
        "\n",
        "Account2 = Accounts.Accounts(account_number=654321, account_firstname=\"John\", account_lastname=\"Doe\",\n",
        "                             current_balance=2000, address=\"Golden Street, Quezon City\",\n",
        "                             email=\"johndoe@yahoo.com\")\n",
        "\n",
        "# Display account information\n",
        "print(\"Account 1\")\n",
        "Account1.display_account_info()\n",
        "\n",
        "print(\"Account 2\")\n",
        "Account2.display_account_info()\n"
      ],
      "metadata": {
        "id": "9zCFX1hjM90d"
      },
      "execution_count": null,
      "outputs": []
    }
  ]
}