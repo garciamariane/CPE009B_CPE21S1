{
  "nbformat": 4,
  "nbformat_minor": 0,
  "metadata": {
    "colab": {
      "provenance": [],
      "authorship_tag": "ABX9TyMY+3fo6bGef9/rq3SBDXVG",
      "include_colab_link": true
    },
    "kernelspec": {
      "name": "python3",
      "display_name": "Python 3"
    },
    "language_info": {
      "name": "python"
    }
  },
  "cells": [
    {
      "cell_type": "markdown",
      "metadata": {
        "id": "view-in-github",
        "colab_type": "text"
      },
      "source": [
        "<a href=\"https://colab.research.google.com/github/garciamariane/CPE009B_CPE21S1/blob/main/midtermexamCPE009B.ipynb\" target=\"_parent\"><img src=\"https://colab.research.google.com/assets/colab-badge.svg\" alt=\"Open In Colab\"/></a>"
      ]
    },
    {
      "cell_type": "markdown",
      "source": [
        "question number 1"
      ],
      "metadata": {
        "id": "7Ke_lV19k4hS"
      }
    },
    {
      "cell_type": "code",
      "execution_count": null,
      "metadata": {
        "id": "0V-mUDTJe8qK"
      },
      "outputs": [],
      "source": [
        "def main():\n",
        "    class TemperatureConversion:\n",
        "        def __init__(self, temp=1):\n",
        "            self._temp = temp\n",
        "\n",
        "    class CelsiusToFahrenheit(TemperatureConversion):\n",
        "        def conversion(self):\n",
        "            return (self._temp * 9) / 5 + 32\n",
        "\n",
        "    class CelsiusToKelvin(TemperatureConversion):\n",
        "        def conversion(self):\n",
        "            return self._temp + 273.15\n",
        "\n",
        "    class FahrenheitToCelsius(TemperatureConversion):\n",
        "        def conversion(self):\n",
        "            return (self._temp - 32) * 5 / 9\n",
        "\n",
        "    class KelvinToCelsius(TemperatureConversion):\n",
        "        def conversion(self):\n",
        "            return self._temp - 273.15\n",
        "\n",
        "    tempInCelsius = float(input(\"Enter the temperature in Celsius: \"))\n",
        "    convert = CelsiusToKelvin(tempInCelsius)\n",
        "    print(str(convert.conversion()) + \" KELVIN\")\n",
        "\n",
        "    convert = CelsiusToFahrenheit(tempInCelsius)\n",
        "    print(str(convert.conversion()) + \" FARENHEIT\")\n",
        "\n",
        "    tempInFahrenheit = float(input(\"Enter the temperature in Fahrenheit: \"))\n",
        "    convert = FahrenheitToCelsius(tempInFahrenheit)\n",
        "    print(str(convert.conversion()) + \" CELCIUS\")\n",
        "\n",
        "    tempInKelvin = float(input(\"Enter the temperature in Kelvin: \"))\n",
        "    convert = KelvinToCelsius(tempInKelvin)\n",
        "    print(str(convert.conversion()) + \" CELCIUS\")\n",
        "\n",
        "\n",
        "main()"
      ]
    },
    {
      "cell_type": "markdown",
      "source": [
        "QUESTION NUMBER 2"
      ],
      "metadata": {
        "id": "JCy0CYAXltcx"
      }
    },
    {
      "cell_type": "code",
      "source": [
        "import tkinter as tk\n",
        "\n",
        "def change_color():\n",
        "    button.config(bg='yellow')\n",
        "\n",
        "root = tk.Tk()\n",
        "root.title(\"Special Midterm Exam in OOP 2\")\n",
        "root.geometry(\"300x200\")\n",
        "\n",
        "button = tk.Button(root, text=\"Click Me!\", command=change_color)\n",
        "button.pack(expand=True)\n",
        "\n",
        "root.mainloop()\n"
      ],
      "metadata": {
        "id": "eM8GQPE-may5"
      },
      "execution_count": null,
      "outputs": []
    },
    {
      "cell_type": "code",
      "source": [
        "import tkinter as tk\n",
        "\n",
        "def display_name():\n",
        "    name = name_entry.get()\n",
        "    output_label.config(text=name)\n",
        "\n",
        "window = tk.Tk()\n",
        "window.title(\"Midterm in OOP\")\n",
        "window.geometry(\"600x400\")\n",
        "\n",
        "frame = tk.Frame(window)\n",
        "frame.pack(expand=True)\n",
        "\n",
        "name_label = tk.Label(frame, text=\"Enter your fullname:\", fg='red')\n",
        "name_label.grid(row=0, column=0, sticky='e', padx=10, pady=5)  # Align right\n",
        "\n",
        "name_entry = tk.Entry(frame)\n",
        "name_entry.grid(row=0, column=1, padx=10, pady=5)\n",
        "\n",
        "display_button = tk.Button(frame, text=\"Click to display your Fullname\", command=display_name, fg='red')\n",
        "display_button.grid(row=1, column=0, pady=10)\n",
        "\n",
        "output_label = tk.Label(frame, text=\"\")\n",
        "output_label.grid(row=1, column=1, padx=10, pady=5)\n",
        "\n",
        "window.mainloop()\n"
      ],
      "metadata": {
        "id": "syEA1lz9mjT6"
      },
      "execution_count": null,
      "outputs": []
    }
  ]
}